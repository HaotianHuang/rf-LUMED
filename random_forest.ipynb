{
 "cells": [
  {
   "cell_type": "code",
   "execution_count": 29,
   "id": "d7ebc075",
   "metadata": {},
   "outputs": [
    {
     "data": {
      "text/plain": [
       "True"
      ]
     },
     "execution_count": 29,
     "metadata": {},
     "output_type": "execute_result"
    }
   ],
   "source": [
    "from sklearn.ensemble import RandomForestClassifier\n",
    "from sklearn.model_selection import train_test_split\n",
    "from sklearn.metrics import accuracy_score, confusion_matrix, classification_report\n",
    "from sklearn.utils.multiclass import unique_labels\n",
    "\n",
    "import pandas as pd\n",
    "import numpy as np\n",
    "import matplotlib.pyplot as plt\n",
    "import seaborn as sns\n",
    "\n",
    "X = pd.read_csv('s01.csv')\n",
    "y = pd.read_csv('s01-labels.csv')\n",
    "len(X) == len(y)"
   ]
  },
  {
   "cell_type": "code",
   "execution_count": 10,
   "id": "9848e0a1",
   "metadata": {},
   "outputs": [
    {
     "data": {
      "text/html": [
       "<div>\n",
       "<style scoped>\n",
       "    .dataframe tbody tr th:only-of-type {\n",
       "        vertical-align: middle;\n",
       "    }\n",
       "\n",
       "    .dataframe tbody tr th {\n",
       "        vertical-align: top;\n",
       "    }\n",
       "\n",
       "    .dataframe thead th {\n",
       "        text-align: right;\n",
       "    }\n",
       "</style>\n",
       "<table border=\"1\" class=\"dataframe\">\n",
       "  <thead>\n",
       "    <tr style=\"text-align: right;\">\n",
       "      <th></th>\n",
       "      <th>V1</th>\n",
       "      <th>V2</th>\n",
       "      <th>V3</th>\n",
       "      <th>V4</th>\n",
       "      <th>V5</th>\n",
       "      <th>V6</th>\n",
       "      <th>V7</th>\n",
       "      <th>V8</th>\n",
       "      <th>V9</th>\n",
       "    </tr>\n",
       "  </thead>\n",
       "  <tbody>\n",
       "    <tr>\n",
       "      <th>0</th>\n",
       "      <td>-13264.0635</td>\n",
       "      <td>-4582.4902</td>\n",
       "      <td>2579.0974</td>\n",
       "      <td>38326.6758</td>\n",
       "      <td>32381.4668</td>\n",
       "      <td>48940.5352</td>\n",
       "      <td>15849.2383</td>\n",
       "      <td>18270.7461</td>\n",
       "      <td>0.149898</td>\n",
       "    </tr>\n",
       "    <tr>\n",
       "      <th>1</th>\n",
       "      <td>-13269.1309</td>\n",
       "      <td>-4593.6016</td>\n",
       "      <td>2573.1770</td>\n",
       "      <td>38317.7695</td>\n",
       "      <td>32369.5820</td>\n",
       "      <td>48931.4570</td>\n",
       "      <td>15836.7900</td>\n",
       "      <td>18253.0566</td>\n",
       "      <td>0.149898</td>\n",
       "    </tr>\n",
       "    <tr>\n",
       "      <th>2</th>\n",
       "      <td>-13273.2139</td>\n",
       "      <td>-4605.6841</td>\n",
       "      <td>2568.5500</td>\n",
       "      <td>38311.6914</td>\n",
       "      <td>32362.0918</td>\n",
       "      <td>48929.1172</td>\n",
       "      <td>15828.9092</td>\n",
       "      <td>18241.4609</td>\n",
       "      <td>0.149898</td>\n",
       "    </tr>\n",
       "    <tr>\n",
       "      <th>3</th>\n",
       "      <td>-13274.0752</td>\n",
       "      <td>-4613.3335</td>\n",
       "      <td>2566.8176</td>\n",
       "      <td>38310.9609</td>\n",
       "      <td>32361.0469</td>\n",
       "      <td>48933.2656</td>\n",
       "      <td>15828.9639</td>\n",
       "      <td>18239.5801</td>\n",
       "      <td>0.149898</td>\n",
       "    </tr>\n",
       "    <tr>\n",
       "      <th>4</th>\n",
       "      <td>-13271.2578</td>\n",
       "      <td>-4613.1226</td>\n",
       "      <td>2568.2290</td>\n",
       "      <td>38315.7617</td>\n",
       "      <td>32365.7402</td>\n",
       "      <td>48941.4141</td>\n",
       "      <td>15836.2490</td>\n",
       "      <td>18245.9199</td>\n",
       "      <td>0.149898</td>\n",
       "    </tr>\n",
       "    <tr>\n",
       "      <th>...</th>\n",
       "      <td>...</td>\n",
       "      <td>...</td>\n",
       "      <td>...</td>\n",
       "      <td>...</td>\n",
       "      <td>...</td>\n",
       "      <td>...</td>\n",
       "      <td>...</td>\n",
       "      <td>...</td>\n",
       "      <td>...</td>\n",
       "    </tr>\n",
       "    <tr>\n",
       "      <th>264995</th>\n",
       "      <td>-19717.2207</td>\n",
       "      <td>-292.7995</td>\n",
       "      <td>10293.4004</td>\n",
       "      <td>37476.1367</td>\n",
       "      <td>35616.9414</td>\n",
       "      <td>50949.9414</td>\n",
       "      <td>12079.5850</td>\n",
       "      <td>18626.0059</td>\n",
       "      <td>0.181844</td>\n",
       "    </tr>\n",
       "    <tr>\n",
       "      <th>264996</th>\n",
       "      <td>-19717.7285</td>\n",
       "      <td>-294.7468</td>\n",
       "      <td>10293.2900</td>\n",
       "      <td>37477.4141</td>\n",
       "      <td>35619.3125</td>\n",
       "      <td>50952.9805</td>\n",
       "      <td>12080.2080</td>\n",
       "      <td>18625.9668</td>\n",
       "      <td>0.181865</td>\n",
       "    </tr>\n",
       "    <tr>\n",
       "      <th>264997</th>\n",
       "      <td>-19715.0449</td>\n",
       "      <td>-293.1339</td>\n",
       "      <td>10296.5615</td>\n",
       "      <td>37481.3594</td>\n",
       "      <td>35625.2070</td>\n",
       "      <td>50957.9922</td>\n",
       "      <td>12087.1963</td>\n",
       "      <td>18630.6895</td>\n",
       "      <td>0.181886</td>\n",
       "    </tr>\n",
       "    <tr>\n",
       "      <th>264998</th>\n",
       "      <td>-19713.4023</td>\n",
       "      <td>-292.0264</td>\n",
       "      <td>10298.5459</td>\n",
       "      <td>37483.4063</td>\n",
       "      <td>35629.8555</td>\n",
       "      <td>50961.3359</td>\n",
       "      <td>12095.8535</td>\n",
       "      <td>18635.8926</td>\n",
       "      <td>0.181906</td>\n",
       "    </tr>\n",
       "    <tr>\n",
       "      <th>264999</th>\n",
       "      <td>-19716.3320</td>\n",
       "      <td>-294.9189</td>\n",
       "      <td>10295.6494</td>\n",
       "      <td>37480.4258</td>\n",
       "      <td>35629.6992</td>\n",
       "      <td>50960.5664</td>\n",
       "      <td>12100.7334</td>\n",
       "      <td>18637.3516</td>\n",
       "      <td>0.181927</td>\n",
       "    </tr>\n",
       "  </tbody>\n",
       "</table>\n",
       "<p>265000 rows × 9 columns</p>\n",
       "</div>"
      ],
      "text/plain": [
       "                V1         V2          V3          V4          V5          V6  \\\n",
       "0      -13264.0635 -4582.4902   2579.0974  38326.6758  32381.4668  48940.5352   \n",
       "1      -13269.1309 -4593.6016   2573.1770  38317.7695  32369.5820  48931.4570   \n",
       "2      -13273.2139 -4605.6841   2568.5500  38311.6914  32362.0918  48929.1172   \n",
       "3      -13274.0752 -4613.3335   2566.8176  38310.9609  32361.0469  48933.2656   \n",
       "4      -13271.2578 -4613.1226   2568.2290  38315.7617  32365.7402  48941.4141   \n",
       "...            ...        ...         ...         ...         ...         ...   \n",
       "264995 -19717.2207  -292.7995  10293.4004  37476.1367  35616.9414  50949.9414   \n",
       "264996 -19717.7285  -294.7468  10293.2900  37477.4141  35619.3125  50952.9805   \n",
       "264997 -19715.0449  -293.1339  10296.5615  37481.3594  35625.2070  50957.9922   \n",
       "264998 -19713.4023  -292.0264  10298.5459  37483.4063  35629.8555  50961.3359   \n",
       "264999 -19716.3320  -294.9189  10295.6494  37480.4258  35629.6992  50960.5664   \n",
       "\n",
       "                V7          V8        V9  \n",
       "0       15849.2383  18270.7461  0.149898  \n",
       "1       15836.7900  18253.0566  0.149898  \n",
       "2       15828.9092  18241.4609  0.149898  \n",
       "3       15828.9639  18239.5801  0.149898  \n",
       "4       15836.2490  18245.9199  0.149898  \n",
       "...            ...         ...       ...  \n",
       "264995  12079.5850  18626.0059  0.181844  \n",
       "264996  12080.2080  18625.9668  0.181865  \n",
       "264997  12087.1963  18630.6895  0.181886  \n",
       "264998  12095.8535  18635.8926  0.181906  \n",
       "264999  12100.7334  18637.3516  0.181927  \n",
       "\n",
       "[265000 rows x 9 columns]"
      ]
     },
     "execution_count": 10,
     "metadata": {},
     "output_type": "execute_result"
    }
   ],
   "source": [
    "X"
   ]
  },
  {
   "cell_type": "code",
   "execution_count": 11,
   "id": "ca03c790",
   "metadata": {},
   "outputs": [
    {
     "data": {
      "text/html": [
       "<div>\n",
       "<style scoped>\n",
       "    .dataframe tbody tr th:only-of-type {\n",
       "        vertical-align: middle;\n",
       "    }\n",
       "\n",
       "    .dataframe tbody tr th {\n",
       "        vertical-align: top;\n",
       "    }\n",
       "\n",
       "    .dataframe thead th {\n",
       "        text-align: right;\n",
       "    }\n",
       "</style>\n",
       "<table border=\"1\" class=\"dataframe\">\n",
       "  <thead>\n",
       "    <tr style=\"text-align: right;\">\n",
       "      <th></th>\n",
       "      <th>Emotions</th>\n",
       "    </tr>\n",
       "  </thead>\n",
       "  <tbody>\n",
       "    <tr>\n",
       "      <th>0</th>\n",
       "      <td>4</td>\n",
       "    </tr>\n",
       "    <tr>\n",
       "      <th>1</th>\n",
       "      <td>4</td>\n",
       "    </tr>\n",
       "    <tr>\n",
       "      <th>2</th>\n",
       "      <td>4</td>\n",
       "    </tr>\n",
       "    <tr>\n",
       "      <th>3</th>\n",
       "      <td>4</td>\n",
       "    </tr>\n",
       "    <tr>\n",
       "      <th>4</th>\n",
       "      <td>4</td>\n",
       "    </tr>\n",
       "    <tr>\n",
       "      <th>...</th>\n",
       "      <td>...</td>\n",
       "    </tr>\n",
       "    <tr>\n",
       "      <th>264995</th>\n",
       "      <td>3</td>\n",
       "    </tr>\n",
       "    <tr>\n",
       "      <th>264996</th>\n",
       "      <td>3</td>\n",
       "    </tr>\n",
       "    <tr>\n",
       "      <th>264997</th>\n",
       "      <td>3</td>\n",
       "    </tr>\n",
       "    <tr>\n",
       "      <th>264998</th>\n",
       "      <td>3</td>\n",
       "    </tr>\n",
       "    <tr>\n",
       "      <th>264999</th>\n",
       "      <td>3</td>\n",
       "    </tr>\n",
       "  </tbody>\n",
       "</table>\n",
       "<p>265000 rows × 1 columns</p>\n",
       "</div>"
      ],
      "text/plain": [
       "        Emotions\n",
       "0              4\n",
       "1              4\n",
       "2              4\n",
       "3              4\n",
       "4              4\n",
       "...          ...\n",
       "264995         3\n",
       "264996         3\n",
       "264997         3\n",
       "264998         3\n",
       "264999         3\n",
       "\n",
       "[265000 rows x 1 columns]"
      ]
     },
     "execution_count": 11,
     "metadata": {},
     "output_type": "execute_result"
    }
   ],
   "source": [
    "y"
   ]
  },
  {
   "cell_type": "code",
   "execution_count": 12,
   "id": "ef0dd512",
   "metadata": {},
   "outputs": [
    {
     "data": {
      "text/plain": [
       "Emotions\n",
       "1           86001\n",
       "3           65720\n",
       "2           45507\n",
       "6           45499\n",
       "5           15307\n",
       "0            6950\n",
       "4              16\n",
       "dtype: int64"
      ]
     },
     "execution_count": 12,
     "metadata": {},
     "output_type": "execute_result"
    }
   ],
   "source": [
    "y.value_counts()"
   ]
  },
  {
   "cell_type": "code",
   "execution_count": null,
   "id": "c3b3dd70",
   "metadata": {},
   "outputs": [],
   "source": [
    "# classes are a bit imbalanced, if I had more time I would balance these classes"
   ]
  },
  {
   "cell_type": "code",
   "execution_count": 13,
   "id": "bddcc38a",
   "metadata": {},
   "outputs": [],
   "source": [
    "# random state used as better for testing\n",
    "# stratified used to partially account for class imbalance\n",
    "X_train, X_test, y_train, y_test = train_test_split(X, y, random_state=1, stratify=y)"
   ]
  },
  {
   "cell_type": "code",
   "execution_count": 15,
   "id": "38c71a0b",
   "metadata": {},
   "outputs": [
    {
     "data": {
      "text/html": [
       "<style>#sk-container-id-4 {color: black;background-color: white;}#sk-container-id-4 pre{padding: 0;}#sk-container-id-4 div.sk-toggleable {background-color: white;}#sk-container-id-4 label.sk-toggleable__label {cursor: pointer;display: block;width: 100%;margin-bottom: 0;padding: 0.3em;box-sizing: border-box;text-align: center;}#sk-container-id-4 label.sk-toggleable__label-arrow:before {content: \"▸\";float: left;margin-right: 0.25em;color: #696969;}#sk-container-id-4 label.sk-toggleable__label-arrow:hover:before {color: black;}#sk-container-id-4 div.sk-estimator:hover label.sk-toggleable__label-arrow:before {color: black;}#sk-container-id-4 div.sk-toggleable__content {max-height: 0;max-width: 0;overflow: hidden;text-align: left;background-color: #f0f8ff;}#sk-container-id-4 div.sk-toggleable__content pre {margin: 0.2em;color: black;border-radius: 0.25em;background-color: #f0f8ff;}#sk-container-id-4 input.sk-toggleable__control:checked~div.sk-toggleable__content {max-height: 200px;max-width: 100%;overflow: auto;}#sk-container-id-4 input.sk-toggleable__control:checked~label.sk-toggleable__label-arrow:before {content: \"▾\";}#sk-container-id-4 div.sk-estimator input.sk-toggleable__control:checked~label.sk-toggleable__label {background-color: #d4ebff;}#sk-container-id-4 div.sk-label input.sk-toggleable__control:checked~label.sk-toggleable__label {background-color: #d4ebff;}#sk-container-id-4 input.sk-hidden--visually {border: 0;clip: rect(1px 1px 1px 1px);clip: rect(1px, 1px, 1px, 1px);height: 1px;margin: -1px;overflow: hidden;padding: 0;position: absolute;width: 1px;}#sk-container-id-4 div.sk-estimator {font-family: monospace;background-color: #f0f8ff;border: 1px dotted black;border-radius: 0.25em;box-sizing: border-box;margin-bottom: 0.5em;}#sk-container-id-4 div.sk-estimator:hover {background-color: #d4ebff;}#sk-container-id-4 div.sk-parallel-item::after {content: \"\";width: 100%;border-bottom: 1px solid gray;flex-grow: 1;}#sk-container-id-4 div.sk-label:hover label.sk-toggleable__label {background-color: #d4ebff;}#sk-container-id-4 div.sk-serial::before {content: \"\";position: absolute;border-left: 1px solid gray;box-sizing: border-box;top: 0;bottom: 0;left: 50%;z-index: 0;}#sk-container-id-4 div.sk-serial {display: flex;flex-direction: column;align-items: center;background-color: white;padding-right: 0.2em;padding-left: 0.2em;position: relative;}#sk-container-id-4 div.sk-item {position: relative;z-index: 1;}#sk-container-id-4 div.sk-parallel {display: flex;align-items: stretch;justify-content: center;background-color: white;position: relative;}#sk-container-id-4 div.sk-item::before, #sk-container-id-4 div.sk-parallel-item::before {content: \"\";position: absolute;border-left: 1px solid gray;box-sizing: border-box;top: 0;bottom: 0;left: 50%;z-index: -1;}#sk-container-id-4 div.sk-parallel-item {display: flex;flex-direction: column;z-index: 1;position: relative;background-color: white;}#sk-container-id-4 div.sk-parallel-item:first-child::after {align-self: flex-end;width: 50%;}#sk-container-id-4 div.sk-parallel-item:last-child::after {align-self: flex-start;width: 50%;}#sk-container-id-4 div.sk-parallel-item:only-child::after {width: 0;}#sk-container-id-4 div.sk-dashed-wrapped {border: 1px dashed gray;margin: 0 0.4em 0.5em 0.4em;box-sizing: border-box;padding-bottom: 0.4em;background-color: white;}#sk-container-id-4 div.sk-label label {font-family: monospace;font-weight: bold;display: inline-block;line-height: 1.2em;}#sk-container-id-4 div.sk-label-container {text-align: center;}#sk-container-id-4 div.sk-container {/* jupyter's `normalize.less` sets `[hidden] { display: none; }` but bootstrap.min.css set `[hidden] { display: none !important; }` so we also need the `!important` here to be able to override the default hidden behavior on the sphinx rendered scikit-learn.org. See: https://github.com/scikit-learn/scikit-learn/issues/21755 */display: inline-block !important;position: relative;}#sk-container-id-4 div.sk-text-repr-fallback {display: none;}</style><div id=\"sk-container-id-4\" class=\"sk-top-container\"><div class=\"sk-text-repr-fallback\"><pre>RandomForestClassifier()</pre><b>In a Jupyter environment, please rerun this cell to show the HTML representation or trust the notebook. <br />On GitHub, the HTML representation is unable to render, please try loading this page with nbviewer.org.</b></div><div class=\"sk-container\" hidden><div class=\"sk-item\"><div class=\"sk-estimator sk-toggleable\"><input class=\"sk-toggleable__control sk-hidden--visually\" id=\"sk-estimator-id-4\" type=\"checkbox\" checked><label for=\"sk-estimator-id-4\" class=\"sk-toggleable__label sk-toggleable__label-arrow\">RandomForestClassifier</label><div class=\"sk-toggleable__content\"><pre>RandomForestClassifier()</pre></div></div></div></div></div>"
      ],
      "text/plain": [
       "RandomForestClassifier()"
      ]
     },
     "execution_count": 15,
     "metadata": {},
     "output_type": "execute_result"
    }
   ],
   "source": [
    "forest = RandomForestClassifier()\n",
    "forest.fit(X_train, y_train.values.ravel())"
   ]
  },
  {
   "cell_type": "code",
   "execution_count": 16,
   "id": "41967624",
   "metadata": {},
   "outputs": [],
   "source": [
    "y_pred_test = forest.predict(X_test)"
   ]
  },
  {
   "cell_type": "code",
   "execution_count": 17,
   "id": "3317658b",
   "metadata": {},
   "outputs": [
    {
     "data": {
      "text/plain": [
       "0.998822641509434"
      ]
     },
     "execution_count": 17,
     "metadata": {},
     "output_type": "execute_result"
    }
   ],
   "source": [
    "accuracy_score(y_test, y_pred_test)"
   ]
  },
  {
   "cell_type": "code",
   "execution_count": 31,
   "id": "d5d0adbd",
   "metadata": {},
   "outputs": [
    {
     "data": {
      "text/plain": [
       "array([[ 1727,     6,     2,     2,     0,     0,     0],\n",
       "       [    9, 21481,     0,     0,     0,     0,    10],\n",
       "       [    0,     0, 11377,     0,     0,     0,     0],\n",
       "       [    1,     0,     0, 16414,     0,    15,     0],\n",
       "       [    0,     0,     1,     0,     3,     0,     0],\n",
       "       [    0,     0,     0,    24,     0,  3803,     0],\n",
       "       [    0,     8,     0,     0,     0,     0, 11367]])"
      ]
     },
     "execution_count": 31,
     "metadata": {},
     "output_type": "execute_result"
    }
   ],
   "source": [
    "labels = [0, 1, 2, 3, 4, 5, 6]\n",
    "confusion_matrix(y_test, y_pred_test, labels=labels)"
   ]
  },
  {
   "cell_type": "code",
   "execution_count": 32,
   "id": "0e5dcf77",
   "metadata": {},
   "outputs": [
    {
     "data": {
      "image/png": "[encoded data removed]",
      "text/plain": [
       "<Figure size 1152x504 with 2 Axes>"
      ]
     },
     "metadata": {},
     "output_type": "display_data"
    }
   ],
   "source": [
    "# Get and reshape confusion matrix data\n",
    "matrix = confusion_matrix(y_test, y_pred_test)\n",
    "matrix = matrix.astype('float') / matrix.sum(axis=1)[:, np.newaxis]\n",
    "\n",
    "# Build the plot\n",
    "plt.figure(figsize=(16,7))\n",
    "sns.set(font_scale=1.4)\n",
    "sns.heatmap(matrix, annot=True, annot_kws={'size':10},\n",
    "            cmap=plt.cm.Greens, linewidths=0.2)\n",
    "\n",
    "# Add labels to the plot\n",
    "class_names = ['0', '1', '2', '3', '4', '5', '6']\n",
    "tick_marks = np.arange(len(class_names))\n",
    "tick_marks2 = tick_marks + 0.5\n",
    "plt.xticks(tick_marks, class_names)\n",
    "plt.yticks(tick_marks2, class_names)\n",
    "plt.xlabel('Predicted label')\n",
    "plt.ylabel('True label')\n",
    "plt.title('Confusion Matrix for Random Forest Model')\n",
    "plt.show()"
   ]
  },
  {
   "cell_type": "code",
   "execution_count": 33,
   "id": "5684a82f",
   "metadata": {},
   "outputs": [
    {
     "name": "stdout",
     "output_type": "stream",
     "text": [
      "              precision    recall  f1-score   support\n",
      "\n",
      "           0       0.99      0.99      0.99      1737\n",
      "           1       1.00      1.00      1.00     21500\n",
      "           2       1.00      1.00      1.00     11377\n",
      "           3       1.00      1.00      1.00     16430\n",
      "           4       1.00      0.75      0.86         4\n",
      "           5       1.00      0.99      0.99      3827\n",
      "           6       1.00      1.00      1.00     11375\n",
      "\n",
      "    accuracy                           1.00     66250\n",
      "   macro avg       1.00      0.96      0.98     66250\n",
      "weighted avg       1.00      1.00      1.00     66250\n",
      "\n"
     ]
    }
   ],
   "source": [
    "print(classification_report(y_test, y_pred_test))"
   ]
  },
  {
   "cell_type": "code",
   "execution_count": null,
   "id": "e8d3de06",
   "metadata": {},
   "outputs": [],
   "source": [
    "# class it was havieng most difficulty predicting is '4'. \n",
    "# understandable as only 4 examples in the test set.\n",
    "# however may be improved with class balancing."
   ]
  }
 ],
 "metadata": {
  "kernelspec": {
   "display_name": "Python 3 (ipykernel)",
   "language": "python",
   "name": "python3"
  },
  "language_info": {
   "codemirror_mode": {
    "name": "ipython",
    "version": 3
   },
   "file_extension": ".py",
   "mimetype": "text/x-python",
   "name": "python",
   "nbconvert_exporter": "python",
   "pygments_lexer": "ipython3",
   "version": "3.9.13"
  }
 },
 "nbformat": 4,
 "nbformat_minor": 5
}
